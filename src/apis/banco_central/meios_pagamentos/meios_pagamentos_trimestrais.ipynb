{
 "cells": [
  {
   "cell_type": "markdown",
   "metadata": {},
   "source": [
    "#### Importando bibliotecas"
   ]
  },
  {
   "cell_type": "code",
   "execution_count": 1,
   "metadata": {},
   "outputs": [],
   "source": [
    "from pymongo import MongoClient\n",
    "import requests\n",
    "import pandas as pd"
   ]
  },
  {
   "cell_type": "markdown",
   "metadata": {},
   "source": [
    "#### Conectando ao MongoDB Atlas"
   ]
  },
  {
   "cell_type": "code",
   "execution_count": null,
   "metadata": {},
   "outputs": [],
   "source": [
    "# Conectar ao MongoDB Atlas\n",
    "client = MongoClient(\"\")\n",
    "# Seleciona o banco de dados\n",
    "db = client[\"\"]\n",
    "# Seleciona a coleção\n",
    "collection = db[\"meios_pagamentos_trimestrais\"]"
   ]
  },
  {
   "cell_type": "code",
   "execution_count": 3,
   "metadata": {},
   "outputs": [
    {
     "data": {
      "text/plain": [
       "[]"
      ]
     },
     "execution_count": 3,
     "metadata": {},
     "output_type": "execute_result"
    }
   ],
   "source": [
    "# Recuperar dados da coleção\n",
    "data = list(collection.find())\n",
    "data"
   ]
  },
  {
   "cell_type": "code",
   "execution_count": 4,
   "metadata": {},
   "outputs": [
    {
     "name": "stdout",
     "output_type": "stream",
     "text": [
      "Empty DataFrame\n",
      "Columns: []\n",
      "Index: []\n"
     ]
    }
   ],
   "source": [
    "# Converter para DataFrame\n",
    "df = pd.DataFrame(data)\n",
    "print(df)"
   ]
  },
  {
   "cell_type": "markdown",
   "metadata": {},
   "source": [
    "#### Consumindo API e enviando dados para o banco"
   ]
  },
  {
   "cell_type": "code",
   "execution_count": 5,
   "metadata": {},
   "outputs": [],
   "source": [
    "# Endpoint da nova API para os dados de meios de pagamento trimestrais\n",
    "url = (\"https://olinda.bcb.gov.br/olinda/servico/MPV_DadosAbertos/versao/v1/odata/MeiosdePagamentosTrimestralDA(trimestre=@trimestre)?@trimestre=%2720201%27&$top=100&$format=json&$select=datatrimestre,valorPix,valorTED,valorTEC,valorCheque,valorBoleto,valorDOC,valorCartaoCredito,valorCartaoDebito,valorCartaoPrePago,valorTransIntrabancaria,valorConvenios,valorDebitoDireto,valorSaques,quantidadePix,quantidadeTED,quantidadeTEC,quantidadeCheque,quantidadeBoleto,quantidadeDOC,quantidadeCartaoCredito,quantidadeCartaoDebito,quantidadeCartaoPrePago,quantidadeTransIntrabancaria,quantidadeConvenios,quantidadeDebitoDireto,quantidadeSaques\")\n",
    "\n",
    "# Realizar a requisição\n",
    "response = requests.get(url)\n",
    "\n",
    "# Verificar se a requisição foi bem-sucedida\n",
    "if response.status_code == 200:\n",
    "    data = response.json()\n",
    "\n",
    "    # Inicializar a lista para armazenar os dados\n",
    "    pagamento_data = []\n",
    "\n",
    "    # Iterar pelos resultados\n",
    "    for item in data[\"value\"]:\n",
    "\n",
    "        # Extrair o ano e o trimestre\n",
    "        datatrimestre = item[\"datatrimestre\"]\n",
    "        ano = datatrimestre[:4]\n",
    "        trimestre = int(datatrimestre[5:7])  # Os trimestres são no formato \"YYYY-MM\", portanto pegamos o mês\n",
    "\n",
    "        # Determinar o nome do trimestre\n",
    "        if trimestre == 3:\n",
    "            nome_trimestre = \"1º Trimestre\"\n",
    "        elif trimestre == 6:\n",
    "            nome_trimestre = \"2º Trimestre\"\n",
    "        elif trimestre == 9:\n",
    "            nome_trimestre = \"3º Trimestre\"\n",
    "        else:\n",
    "            nome_trimestre = \"4º Trimestre\"\n",
    "\n",
    "        # Categorias de pagamento\n",
    "        categorias = [\n",
    "            \"Pix\", \"TED\", \"TEC\", \"Cheque\", \"Boleto\", \"DOC\",\n",
    "            \"CartaoCredito\", \"CartaoDebito\", \"CartaoPrePago\",\n",
    "            \"TransIntrabancaria\", \"Convenios\", \"DebitoDireto\", \"Saques\"\n",
    "        ]\n",
    "\n",
    "        # Adicionar os dados de cada categoria\n",
    "        for categoria in categorias:\n",
    "            pagamento_data.append({\n",
    "                \"ano\": ano,\n",
    "                \"trimestre\": nome_trimestre,\n",
    "                \"metodo\": categoria,\n",
    "                \"quantidade\": item[f\"quantidade{categoria}\"],\n",
    "                \"valor\": item[f\"valor{categoria}\"]\n",
    "            })\n",
    "\n",
    "else:\n",
    "    print(\"Erro:\", response.status_code, response.text)\n"
   ]
  },
  {
   "cell_type": "code",
   "execution_count": 6,
   "metadata": {},
   "outputs": [
    {
     "data": {
      "text/html": [
       "<div>\n",
       "<style scoped>\n",
       "    .dataframe tbody tr th:only-of-type {\n",
       "        vertical-align: middle;\n",
       "    }\n",
       "\n",
       "    .dataframe tbody tr th {\n",
       "        vertical-align: top;\n",
       "    }\n",
       "\n",
       "    .dataframe thead th {\n",
       "        text-align: right;\n",
       "    }\n",
       "</style>\n",
       "<table border=\"1\" class=\"dataframe\">\n",
       "  <thead>\n",
       "    <tr style=\"text-align: right;\">\n",
       "      <th></th>\n",
       "      <th>ano</th>\n",
       "      <th>trimestre</th>\n",
       "      <th>metodo</th>\n",
       "      <th>quantidade</th>\n",
       "      <th>valor</th>\n",
       "    </tr>\n",
       "  </thead>\n",
       "  <tbody>\n",
       "    <tr>\n",
       "      <th>0</th>\n",
       "      <td>2024</td>\n",
       "      <td>2º Trimestre</td>\n",
       "      <td>Pix</td>\n",
       "      <td>15433584.90</td>\n",
       "      <td>6403013.64</td>\n",
       "    </tr>\n",
       "    <tr>\n",
       "      <th>1</th>\n",
       "      <td>2024</td>\n",
       "      <td>2º Trimestre</td>\n",
       "      <td>TED</td>\n",
       "      <td>203269.58</td>\n",
       "      <td>10662555.73</td>\n",
       "    </tr>\n",
       "    <tr>\n",
       "      <th>2</th>\n",
       "      <td>2024</td>\n",
       "      <td>2º Trimestre</td>\n",
       "      <td>TEC</td>\n",
       "      <td>0.00</td>\n",
       "      <td>0.00</td>\n",
       "    </tr>\n",
       "    <tr>\n",
       "      <th>3</th>\n",
       "      <td>2024</td>\n",
       "      <td>2º Trimestre</td>\n",
       "      <td>Cheque</td>\n",
       "      <td>44981.97</td>\n",
       "      <td>221553.82</td>\n",
       "    </tr>\n",
       "    <tr>\n",
       "      <th>4</th>\n",
       "      <td>2024</td>\n",
       "      <td>2º Trimestre</td>\n",
       "      <td>Boleto</td>\n",
       "      <td>1439104.18</td>\n",
       "      <td>2360420.40</td>\n",
       "    </tr>\n",
       "  </tbody>\n",
       "</table>\n",
       "</div>"
      ],
      "text/plain": [
       "    ano     trimestre  metodo   quantidade        valor\n",
       "0  2024  2º Trimestre     Pix  15433584.90   6403013.64\n",
       "1  2024  2º Trimestre     TED    203269.58  10662555.73\n",
       "2  2024  2º Trimestre     TEC         0.00         0.00\n",
       "3  2024  2º Trimestre  Cheque     44981.97    221553.82\n",
       "4  2024  2º Trimestre  Boleto   1439104.18   2360420.40"
      ]
     },
     "execution_count": 6,
     "metadata": {},
     "output_type": "execute_result"
    }
   ],
   "source": [
    "# Converter para DataFrame\n",
    "df = pd.DataFrame(pagamento_data)\n",
    "df.head()"
   ]
  },
  {
   "cell_type": "code",
   "execution_count": 7,
   "metadata": {},
   "outputs": [
    {
     "name": "stdout",
     "output_type": "stream",
     "text": [
      "[{'ano': '2024', 'trimestre': '2º Trimestre', 'metodo': 'Pix', 'quantidade': 15433584.9, 'valor': 6403013.64}, {'ano': '2024', 'trimestre': '2º Trimestre', 'metodo': 'TED', 'quantidade': 203269.58, 'valor': 10662555.73}, {'ano': '2024', 'trimestre': '2º Trimestre', 'metodo': 'TEC', 'quantidade': 0.0, 'valor': 0.0}, {'ano': '2024', 'trimestre': '2º Trimestre', 'metodo': 'Cheque', 'quantidade': 44981.97, 'valor': 221553.82}, {'ano': '2024', 'trimestre': '2º Trimestre', 'metodo': 'Boleto', 'quantidade': 1439104.18, 'valor': 2360420.4}, {'ano': '2024', 'trimestre': '2º Trimestre', 'metodo': 'DOC', 'quantidade': 0.0, 'valor': 0.0}, {'ano': '2024', 'trimestre': '2º Trimestre', 'metodo': 'CartaoCredito', 'quantidade': 4879269.34, 'valor': 631789.1}, {'ano': '2024', 'trimestre': '2º Trimestre', 'metodo': 'CartaoDebito', 'quantidade': 4057958.85, 'valor': 239101.56}, {'ano': '2024', 'trimestre': '2º Trimestre', 'metodo': 'CartaoPrePago', 'quantidade': 3046202.02, 'valor': 77386.79}, {'ano': '2024', 'trimestre': '2º Trimestre', 'metodo': 'TransIntrabancaria', 'quantidade': 357386.52, 'valor': 6189022.31}, {'ano': '2024', 'trimestre': '2º Trimestre', 'metodo': 'Convenios', 'quantidade': 679409.28, 'valor': 984002.13}, {'ano': '2024', 'trimestre': '2º Trimestre', 'metodo': 'DebitoDireto', 'quantidade': 3320504.73, 'valor': 585275.47}, {'ano': '2024', 'trimestre': '2º Trimestre', 'metodo': 'Saques', 'quantidade': 698602.29, 'valor': 591903.75}, {'ano': '2024', 'trimestre': '1º Trimestre', 'metodo': 'Pix', 'quantidade': 13642850.7, 'valor': 5475186.35}, {'ano': '2024', 'trimestre': '1º Trimestre', 'metodo': 'TED', 'quantidade': 203714.16, 'valor': 9651625.56}, {'ano': '2024', 'trimestre': '1º Trimestre', 'metodo': 'TEC', 'quantidade': 447.19, 'valor': 925.26}, {'ano': '2024', 'trimestre': '1º Trimestre', 'metodo': 'Cheque', 'quantidade': 46468.88, 'valor': 190457.25}, {'ano': '2024', 'trimestre': '1º Trimestre', 'metodo': 'Boleto', 'quantidade': 1422709.26, 'valor': 2248815.45}, {'ano': '2024', 'trimestre': '1º Trimestre', 'metodo': 'DOC', 'quantidade': 662.65, 'valor': 650.8}, {'ano': '2024', 'trimestre': '1º Trimestre', 'metodo': 'CartaoCredito', 'quantidade': 4723437.71, 'valor': 607470.96}, {'ano': '2024', 'trimestre': '1º Trimestre', 'metodo': 'CartaoDebito', 'quantidade': 3952365.16, 'valor': 235111.6}, {'ano': '2024', 'trimestre': '1º Trimestre', 'metodo': 'CartaoPrePago', 'quantidade': 2774237.04, 'valor': 73035.61}, {'ano': '2024', 'trimestre': '1º Trimestre', 'metodo': 'TransIntrabancaria', 'quantidade': 321909.43, 'valor': 5396558.41}, {'ano': '2024', 'trimestre': '1º Trimestre', 'metodo': 'Convenios', 'quantidade': 726660.81, 'valor': 1082621.22}, {'ano': '2024', 'trimestre': '1º Trimestre', 'metodo': 'DebitoDireto', 'quantidade': 3238627.21, 'valor': 568515.99}, {'ano': '2024', 'trimestre': '1º Trimestre', 'metodo': 'Saques', 'quantidade': 683037.82, 'valor': 522123.86}, {'ano': '2023', 'trimestre': '4º Trimestre', 'metodo': 'Pix', 'quantidade': 13088334.75, 'valor': 5328344.78}, {'ano': '2023', 'trimestre': '4º Trimestre', 'metodo': 'TED', 'quantidade': 226471.15, 'valor': 10090921.81}, {'ano': '2023', 'trimestre': '4º Trimestre', 'metodo': 'TEC', 'quantidade': 2571.85, 'valor': 5787.89}, {'ano': '2023', 'trimestre': '4º Trimestre', 'metodo': 'Cheque', 'quantidade': 52101.15, 'valor': 221424.78}, {'ano': '2023', 'trimestre': '4º Trimestre', 'metodo': 'Boleto', 'quantidade': 1452479.44, 'valor': 2317765.95}, {'ano': '2023', 'trimestre': '4º Trimestre', 'metodo': 'DOC', 'quantidade': 4664.79, 'valor': 4684.98}, {'ano': '2023', 'trimestre': '4º Trimestre', 'metodo': 'CartaoCredito', 'quantidade': 4813848.35, 'valor': 630191.34}, {'ano': '2023', 'trimestre': '4º Trimestre', 'metodo': 'CartaoDebito', 'quantidade': 4238653.32, 'valor': 259057.92}, {'ano': '2023', 'trimestre': '4º Trimestre', 'metodo': 'CartaoPrePago', 'quantidade': 2974411.01, 'valor': 79592.4}, {'ano': '2023', 'trimestre': '4º Trimestre', 'metodo': 'TransIntrabancaria', 'quantidade': 375748.53, 'valor': 5622307.18}, {'ano': '2023', 'trimestre': '4º Trimestre', 'metodo': 'Convenios', 'quantidade': 669793.53, 'valor': 992622.17}, {'ano': '2023', 'trimestre': '4º Trimestre', 'metodo': 'DebitoDireto', 'quantidade': 3245863.34, 'valor': 713985.32}, {'ano': '2023', 'trimestre': '4º Trimestre', 'metodo': 'Saques', 'quantidade': 752444.89, 'valor': 644620.62}, {'ano': '2023', 'trimestre': '3º Trimestre', 'metodo': 'Pix', 'quantidade': 11147409.98, 'valor': 4491159.36}, {'ano': '2023', 'trimestre': '3º Trimestre', 'metodo': 'TED', 'quantidade': 217717.65, 'valor': 9960251.89}, {'ano': '2023', 'trimestre': '3º Trimestre', 'metodo': 'TEC', 'quantidade': 1765.08, 'valor': 4156.38}, {'ano': '2023', 'trimestre': '3º Trimestre', 'metodo': 'Cheque', 'quantidade': 54410.39, 'valor': 218121.88}, {'ano': '2023', 'trimestre': '3º Trimestre', 'metodo': 'Boleto', 'quantidade': 1487093.97, 'valor': 2296882.2}, {'ano': '2023', 'trimestre': '3º Trimestre', 'metodo': 'DOC', 'quantidade': 12613.82, 'valor': 10131.89}, {'ano': '2023', 'trimestre': '3º Trimestre', 'metodo': 'CartaoCredito', 'quantidade': 4583771.68, 'valor': 581902.42}, {'ano': '2023', 'trimestre': '3º Trimestre', 'metodo': 'CartaoDebito', 'quantidade': 4014361.45, 'valor': 240827.84}, {'ano': '2023', 'trimestre': '3º Trimestre', 'metodo': 'CartaoPrePago', 'quantidade': 2677826.63, 'valor': 69553.22}, {'ano': '2023', 'trimestre': '3º Trimestre', 'metodo': 'TransIntrabancaria', 'quantidade': 318650.81, 'valor': 5432701.79}, {'ano': '2023', 'trimestre': '3º Trimestre', 'metodo': 'Convenios', 'quantidade': 706678.69, 'valor': 917960.43}, {'ano': '2023', 'trimestre': '3º Trimestre', 'metodo': 'DebitoDireto', 'quantidade': 2791758.96, 'valor': 696617.75}, {'ano': '2023', 'trimestre': '3º Trimestre', 'metodo': 'Saques', 'quantidade': 758697.45, 'valor': 622701.08}, {'ano': '2023', 'trimestre': '2º Trimestre', 'metodo': 'Pix', 'quantidade': 9396579.03, 'valor': 3900377.43}, {'ano': '2023', 'trimestre': '2º Trimestre', 'metodo': 'TED', 'quantidade': 218819.11, 'valor': 10657463.13}, {'ano': '2023', 'trimestre': '2º Trimestre', 'metodo': 'TEC', 'quantidade': 1992.69, 'valor': 4770.74}, {'ano': '2023', 'trimestre': '2º Trimestre', 'metodo': 'Cheque', 'quantidade': 56339.37, 'valor': 228408.82}, {'ano': '2023', 'trimestre': '2º Trimestre', 'metodo': 'Boleto', 'quantidade': 1494217.09, 'valor': 2249058.2}, {'ano': '2023', 'trimestre': '2º Trimestre', 'metodo': 'DOC', 'quantidade': 10328.16, 'valor': 11258.23}, {'ano': '2023', 'trimestre': '2º Trimestre', 'metodo': 'CartaoCredito', 'quantidade': 4434832.09, 'valor': 561910.94}, {'ano': '2023', 'trimestre': '2º Trimestre', 'metodo': 'CartaoDebito', 'quantidade': 3929786.47, 'valor': 238172.21}, {'ano': '2023', 'trimestre': '2º Trimestre', 'metodo': 'CartaoPrePago', 'quantidade': 2426618.73, 'valor': 63923.28}, {'ano': '2023', 'trimestre': '2º Trimestre', 'metodo': 'TransIntrabancaria', 'quantidade': 278674.95, 'valor': 5394386.03}, {'ano': '2023', 'trimestre': '2º Trimestre', 'metodo': 'Convenios', 'quantidade': 735860.5, 'valor': 930572.64}, {'ano': '2023', 'trimestre': '2º Trimestre', 'metodo': 'DebitoDireto', 'quantidade': 2557307.2, 'valor': 657368.51}, {'ano': '2023', 'trimestre': '2º Trimestre', 'metodo': 'Saques', 'quantidade': 778454.0, 'valor': 638613.02}, {'ano': '2023', 'trimestre': '1º Trimestre', 'metodo': 'Pix', 'quantidade': 8116395.5, 'valor': 3447198.28}, {'ano': '2023', 'trimestre': '1º Trimestre', 'metodo': 'TED', 'quantidade': 228743.99, 'valor': 9919602.84}, {'ano': '2023', 'trimestre': '1º Trimestre', 'metodo': 'TEC', 'quantidade': 1957.96, 'valor': 4535.17}, {'ano': '2023', 'trimestre': '1º Trimestre', 'metodo': 'Cheque', 'quantidade': 57830.55, 'valor': 240686.19}, {'ano': '2023', 'trimestre': '1º Trimestre', 'metodo': 'Boleto', 'quantidade': 1510864.63, 'valor': 2211563.4}, {'ano': '2023', 'trimestre': '1º Trimestre', 'metodo': 'DOC', 'quantidade': 7530.9, 'valor': 7467.11}, {'ano': '2023', 'trimestre': '1º Trimestre', 'metodo': 'CartaoCredito', 'quantidade': 4189059.28, 'valor': 535520.44}, {'ano': '2023', 'trimestre': '1º Trimestre', 'metodo': 'CartaoDebito', 'quantidade': 3835192.13, 'valor': 237175.13}, {'ano': '2023', 'trimestre': '1º Trimestre', 'metodo': 'CartaoPrePago', 'quantidade': 2237800.76, 'valor': 61169.03}, {'ano': '2023', 'trimestre': '1º Trimestre', 'metodo': 'TransIntrabancaria', 'quantidade': 259476.91, 'valor': 5753315.65}, {'ano': '2023', 'trimestre': '1º Trimestre', 'metodo': 'Convenios', 'quantidade': 767130.14, 'valor': 968203.13}, {'ano': '2023', 'trimestre': '1º Trimestre', 'metodo': 'DebitoDireto', 'quantidade': 2438727.3, 'valor': 639081.35}, {'ano': '2023', 'trimestre': '1º Trimestre', 'metodo': 'Saques', 'quantidade': 655963.27, 'valor': 528932.43}, {'ano': '2022', 'trimestre': '4º Trimestre', 'metodo': 'Pix', 'quantidade': 7807165.7, 'valor': 3342913.94}, {'ano': '2022', 'trimestre': '4º Trimestre', 'metodo': 'TED', 'quantidade': 254289.85, 'valor': 10382121.63}, {'ano': '2022', 'trimestre': '4º Trimestre', 'metodo': 'TEC', 'quantidade': 2531.94, 'valor': 5609.53}, {'ano': '2022', 'trimestre': '4º Trimestre', 'metodo': 'Cheque', 'quantidade': 62606.24, 'valor': 242259.61}, {'ano': '2022', 'trimestre': '4º Trimestre', 'metodo': 'Boleto', 'quantidade': 1522483.73, 'valor': 2259674.59}, {'ano': '2022', 'trimestre': '4º Trimestre', 'metodo': 'DOC', 'quantidade': 9871.74, 'valor': 9584.63}, {'ano': '2022', 'trimestre': '4º Trimestre', 'metodo': 'CartaoCredito', 'quantidade': 4334758.4, 'valor': 560765.41}, {'ano': '2022', 'trimestre': '4º Trimestre', 'metodo': 'CartaoDebito', 'quantidade': 4115443.07, 'valor': 264120.64}, {'ano': '2022', 'trimestre': '4º Trimestre', 'metodo': 'CartaoPrePago', 'quantidade': 2303423.64, 'valor': 66081.98}, {'ano': '2022', 'trimestre': '4º Trimestre', 'metodo': 'TransIntrabancaria', 'quantidade': 289650.44, 'valor': 5511068.32}, {'ano': '2022', 'trimestre': '4º Trimestre', 'metodo': 'Convenios', 'quantidade': 737698.14, 'valor': 935377.4}, {'ano': '2022', 'trimestre': '4º Trimestre', 'metodo': 'DebitoDireto', 'quantidade': 1936336.01, 'valor': 688621.87}, {'ano': '2022', 'trimestre': '4º Trimestre', 'metodo': 'Saques', 'quantidade': 717703.89, 'valor': 611825.76}, {'ano': '2022', 'trimestre': '3º Trimestre', 'metodo': 'Pix', 'quantidade': 6528602.08, 'valor': 2936413.95}, {'ano': '2022', 'trimestre': '3º Trimestre', 'metodo': 'TED', 'quantidade': 256680.13, 'valor': 10437763.16}, {'ano': '2022', 'trimestre': '3º Trimestre', 'metodo': 'TEC', 'quantidade': 1677.77, 'valor': 3735.46}, {'ano': '2022', 'trimestre': '3º Trimestre', 'metodo': 'Cheque', 'quantidade': 68142.99, 'valor': 267090.22}, {'ano': '2022', 'trimestre': '3º Trimestre', 'metodo': 'Boleto', 'quantidade': 1538367.11, 'valor': 2248416.63}, {'ano': '2022', 'trimestre': '3º Trimestre', 'metodo': 'DOC', 'quantidade': 18047.28, 'valor': 17106.46}, {'ano': '2022', 'trimestre': '3º Trimestre', 'metodo': 'CartaoCredito', 'quantidade': 4151713.82, 'valor': 521942.27}, {'ano': '2022', 'trimestre': '3º Trimestre', 'metodo': 'CartaoDebito', 'quantidade': 3831079.03, 'valor': 243632.86}, {'ano': '2022', 'trimestre': '3º Trimestre', 'metodo': 'CartaoPrePago', 'quantidade': 1993806.85, 'valor': 55695.33}, {'ano': '2022', 'trimestre': '3º Trimestre', 'metodo': 'TransIntrabancaria', 'quantidade': 274847.98, 'valor': 5503514.22}, {'ano': '2022', 'trimestre': '3º Trimestre', 'metodo': 'Convenios', 'quantidade': 769091.91, 'valor': 900010.86}, {'ano': '2022', 'trimestre': '3º Trimestre', 'metodo': 'DebitoDireto', 'quantidade': 1965282.74, 'valor': 728114.38}, {'ano': '2022', 'trimestre': '3º Trimestre', 'metodo': 'Saques', 'quantidade': 725040.4, 'valor': 607773.39}, {'ano': '2022', 'trimestre': '2º Trimestre', 'metodo': 'Pix', 'quantidade': 5447448.22, 'valor': 2543384.4}, {'ano': '2022', 'trimestre': '2º Trimestre', 'metodo': 'TED', 'quantidade': 254587.79, 'valor': 10449574.67}, {'ano': '2022', 'trimestre': '2º Trimestre', 'metodo': 'TEC', 'quantidade': 2112.1, 'valor': 4786.14}, {'ano': '2022', 'trimestre': '2º Trimestre', 'metodo': 'Cheque', 'quantidade': 70141.14, 'valor': 271008.09}, {'ano': '2022', 'trimestre': '2º Trimestre', 'metodo': 'Boleto', 'quantidade': 1517092.79, 'valor': 2210099.22}, {'ano': '2022', 'trimestre': '2º Trimestre', 'metodo': 'DOC', 'quantidade': 17905.1, 'valor': 17081.53}, {'ano': '2022', 'trimestre': '2º Trimestre', 'metodo': 'CartaoCredito', 'quantidade': 3974127.06, 'valor': 501514.74}, {'ano': '2022', 'trimestre': '2º Trimestre', 'metodo': 'CartaoDebito', 'quantidade': 3778540.37, 'valor': 245563.75}, {'ano': '2022', 'trimestre': '2º Trimestre', 'metodo': 'CartaoPrePago', 'quantidade': 1750865.66, 'valor': 50925.72}, {'ano': '2022', 'trimestre': '2º Trimestre', 'metodo': 'TransIntrabancaria', 'quantidade': 269502.24, 'valor': 5242642.7}, {'ano': '2022', 'trimestre': '2º Trimestre', 'metodo': 'Convenios', 'quantidade': 777047.24, 'valor': 903296.33}, {'ano': '2022', 'trimestre': '2º Trimestre', 'metodo': 'DebitoDireto', 'quantidade': 2019042.65, 'valor': 666854.65}, {'ano': '2022', 'trimestre': '2º Trimestre', 'metodo': 'Saques', 'quantidade': 876660.3, 'valor': 708789.71}, {'ano': '2022', 'trimestre': '1º Trimestre', 'metodo': 'Pix', 'quantidade': 4250023.75, 'valor': 2067826.55}, {'ano': '2022', 'trimestre': '1º Trimestre', 'metodo': 'TED', 'quantidade': 256893.93, 'valor': 9507158.34}, {'ano': '2022', 'trimestre': '1º Trimestre', 'metodo': 'TEC', 'quantidade': 1795.35, 'valor': 3865.81}, {'ano': '2022', 'trimestre': '1º Trimestre', 'metodo': 'Cheque', 'quantidade': 71479.43, 'valor': 255455.43}, {'ano': '2022', 'trimestre': '1º Trimestre', 'metodo': 'Boleto', 'quantidade': 1490934.41, 'valor': 2032317.14}, {'ano': '2022', 'trimestre': '1º Trimestre', 'metodo': 'DOC', 'quantidade': 13194.98, 'valor': 11976.36}, {'ano': '2022', 'trimestre': '1º Trimestre', 'metodo': 'CartaoCredito', 'quantidade': 3679415.97, 'valor': 453292.41}, {'ano': '2022', 'trimestre': '1º Trimestre', 'metodo': 'CartaoDebito', 'quantidade': 3589968.33, 'valor': 230186.87}, {'ano': '2022', 'trimestre': '1º Trimestre', 'metodo': 'CartaoPrePago', 'quantidade': 1507246.16, 'valor': 43541.91}, {'ano': '2022', 'trimestre': '1º Trimestre', 'metodo': 'TransIntrabancaria', 'quantidade': 278556.41, 'valor': 4789393.75}, {'ano': '2022', 'trimestre': '1º Trimestre', 'metodo': 'Convenios', 'quantidade': 789421.14, 'valor': 931426.96}, {'ano': '2022', 'trimestre': '1º Trimestre', 'metodo': 'DebitoDireto', 'quantidade': 2049557.88, 'valor': 687654.43}, {'ano': '2022', 'trimestre': '1º Trimestre', 'metodo': 'Saques', 'quantidade': 838690.74, 'valor': 642753.79}, {'ano': '2021', 'trimestre': '4º Trimestre', 'metodo': 'Pix', 'quantidade': 3836285.6, 'valor': 1916418.68}, {'ano': '2021', 'trimestre': '4º Trimestre', 'metodo': 'TED', 'quantidade': 294063.73, 'valor': 9807293.11}, {'ano': '2021', 'trimestre': '4º Trimestre', 'metodo': 'TEC', 'quantidade': 2678.78, 'valor': 5436.19}, {'ano': '2021', 'trimestre': '4º Trimestre', 'metodo': 'Cheque', 'quantidade': 77752.86, 'valor': 264298.16}, {'ano': '2021', 'trimestre': '4º Trimestre', 'metodo': 'Boleto', 'quantidade': 1497704.81, 'valor': 2072053.93}, {'ano': '2021', 'trimestre': '4º Trimestre', 'metodo': 'DOC', 'quantidade': 16716.81, 'valor': 14166.99}, {'ano': '2021', 'trimestre': '4º Trimestre', 'metodo': 'CartaoCredito', 'quantidade': 3741214.5, 'valor': 467911.25}, {'ano': '2021', 'trimestre': '4º Trimestre', 'metodo': 'CartaoDebito', 'quantidade': 3849208.18, 'valor': 257458.3}, {'ano': '2021', 'trimestre': '4º Trimestre', 'metodo': 'CartaoPrePago', 'quantidade': 1430826.74, 'valor': 42420.5}, {'ano': '2021', 'trimestre': '4º Trimestre', 'metodo': 'TransIntrabancaria', 'quantidade': 226318.22, 'valor': 4526131.58}, {'ano': '2021', 'trimestre': '4º Trimestre', 'metodo': 'Convenios', 'quantidade': 755053.35, 'valor': 900546.37}, {'ano': '2021', 'trimestre': '4º Trimestre', 'metodo': 'DebitoDireto', 'quantidade': 1809992.06, 'valor': 603616.19}, {'ano': '2021', 'trimestre': '4º Trimestre', 'metodo': 'Saques', 'quantidade': 919580.38, 'valor': 705117.24}, {'ano': '2021', 'trimestre': '3º Trimestre', 'metodo': 'Pix', 'quantidade': 2863336.94, 'valor': 1556916.22}, {'ano': '2021', 'trimestre': '3º Trimestre', 'metodo': 'TED', 'quantidade': 296200.34, 'valor': 9257046.28}, {'ano': '2021', 'trimestre': '3º Trimestre', 'metodo': 'TEC', 'quantidade': 1790.07, 'valor': 3684.13}, {'ano': '2021', 'trimestre': '3º Trimestre', 'metodo': 'Cheque', 'quantidade': 80110.8, 'valor': 271120.34}, {'ano': '2021', 'trimestre': '3º Trimestre', 'metodo': 'Boleto', 'quantidade': 1493638.16, 'valor': 2001074.0}, {'ano': '2021', 'trimestre': '3º Trimestre', 'metodo': 'DOC', 'quantidade': 27667.96, 'valor': 22306.75}, {'ano': '2021', 'trimestre': '3º Trimestre', 'metodo': 'CartaoCredito', 'quantidade': 3311505.26, 'valor': 399054.11}, {'ano': '2021', 'trimestre': '3º Trimestre', 'metodo': 'CartaoDebito', 'quantidade': 3526062.88, 'valor': 233970.03}, {'ano': '2021', 'trimestre': '3º Trimestre', 'metodo': 'CartaoPrePago', 'quantidade': 1603852.67, 'valor': 33731.83}, {'ano': '2021', 'trimestre': '3º Trimestre', 'metodo': 'TransIntrabancaria', 'quantidade': 244008.4, 'valor': 4380184.5}, {'ano': '2021', 'trimestre': '3º Trimestre', 'metodo': 'Convenios', 'quantidade': 774410.72, 'valor': 808629.48}, {'ano': '2021', 'trimestre': '3º Trimestre', 'metodo': 'DebitoDireto', 'quantidade': 1765464.8, 'valor': 586001.77}, {'ano': '2021', 'trimestre': '3º Trimestre', 'metodo': 'Saques', 'quantidade': 918141.51, 'valor': 673720.99}, {'ano': '2021', 'trimestre': '2º Trimestre', 'metodo': 'Pix', 'quantidade': 1871563.88, 'valor': 1105735.2}, {'ano': '2021', 'trimestre': '2º Trimestre', 'metodo': 'TED', 'quantidade': 333917.74, 'valor': 8566787.27}, {'ano': '2021', 'trimestre': '2º Trimestre', 'metodo': 'TEC', 'quantidade': 1879.38, 'valor': 3894.81}, {'ano': '2021', 'trimestre': '2º Trimestre', 'metodo': 'Cheque', 'quantidade': 75417.98, 'valor': 264944.31}, {'ano': '2021', 'trimestre': '2º Trimestre', 'metodo': 'Boleto', 'quantidade': 1431427.43, 'valor': 1839452.36}, {'ano': '2021', 'trimestre': '2º Trimestre', 'metodo': 'DOC', 'quantidade': 28659.42, 'valor': 23158.84}, {'ano': '2021', 'trimestre': '2º Trimestre', 'metodo': 'CartaoCredito', 'quantidade': 2841992.76, 'valor': 344999.68}, {'ano': '2021', 'trimestre': '2º Trimestre', 'metodo': 'CartaoDebito', 'quantidade': 3141691.41, 'valor': 214381.06}, {'ano': '2021', 'trimestre': '2º Trimestre', 'metodo': 'CartaoPrePago', 'quantidade': 1264916.88, 'valor': 26760.54}, {'ano': '2021', 'trimestre': '2º Trimestre', 'metodo': 'TransIntrabancaria', 'quantidade': 260756.78, 'valor': 4171595.71}, {'ano': '2021', 'trimestre': '2º Trimestre', 'metodo': 'Convenios', 'quantidade': 733937.43, 'valor': 710453.34}, {'ano': '2021', 'trimestre': '2º Trimestre', 'metodo': 'DebitoDireto', 'quantidade': 1709009.85, 'valor': 604018.43}, {'ano': '2021', 'trimestre': '2º Trimestre', 'metodo': 'Saques', 'quantidade': 924449.9, 'valor': 685333.15}, {'ano': '2021', 'trimestre': '1º Trimestre', 'metodo': 'Pix', 'quantidade': 862337.86, 'valor': 625046.52}, {'ano': '2021', 'trimestre': '1º Trimestre', 'metodo': 'TED', 'quantidade': 354171.47, 'valor': 7894414.16}, {'ano': '2021', 'trimestre': '1º Trimestre', 'metodo': 'TEC', 'quantidade': 2181.17, 'valor': 4352.44}, {'ano': '2021', 'trimestre': '1º Trimestre', 'metodo': 'Cheque', 'quantidade': 79409.62, 'valor': 253527.92}, {'ano': '2021', 'trimestre': '1º Trimestre', 'metodo': 'Boleto', 'quantidade': 1386080.6, 'valor': 1769759.68}, {'ano': '2021', 'trimestre': '1º Trimestre', 'metodo': 'DOC', 'quantidade': 31687.35, 'valor': 21777.7}, {'ano': '2021', 'trimestre': '1º Trimestre', 'metodo': 'CartaoCredito', 'quantidade': 2584404.06, 'valor': 310412.13}, {'ano': '2021', 'trimestre': '1º Trimestre', 'metodo': 'CartaoDebito', 'quantidade': 3005004.65, 'valor': 204752.91}, {'ano': '2021', 'trimestre': '1º Trimestre', 'metodo': 'CartaoPrePago', 'quantidade': 1016901.48, 'valor': 20327.69}, {'ano': '2021', 'trimestre': '1º Trimestre', 'metodo': 'TransIntrabancaria', 'quantidade': 274419.7, 'valor': 3965203.17}, {'ano': '2021', 'trimestre': '1º Trimestre', 'metodo': 'Convenios', 'quantidade': 766141.92, 'valor': 728627.48}, {'ano': '2021', 'trimestre': '1º Trimestre', 'metodo': 'DebitoDireto', 'quantidade': 1704253.83, 'valor': 497283.04}, {'ano': '2021', 'trimestre': '1º Trimestre', 'metodo': 'Saques', 'quantidade': 926234.05, 'valor': 673126.6}, {'ano': '2020', 'trimestre': '4º Trimestre', 'metodo': 'Pix', 'quantidade': 176206.65, 'valor': 149894.91}, {'ano': '2020', 'trimestre': '4º Trimestre', 'metodo': 'TED', 'quantidade': 574879.66, 'valor': 8036705.32}, {'ano': '2020', 'trimestre': '4º Trimestre', 'metodo': 'TEC', 'quantidade': 2549.74, 'valor': 5137.42}, {'ano': '2020', 'trimestre': '4º Trimestre', 'metodo': 'Cheque', 'quantidade': 91594.82, 'valor': 278295.37}, {'ano': '2020', 'trimestre': '4º Trimestre', 'metodo': 'Boleto', 'quantidade': 1472868.82, 'valor': 1919100.6}, {'ano': '2020', 'trimestre': '4º Trimestre', 'metodo': 'DOC', 'quantidade': 58634.44, 'valor': 38705.14}, {'ano': '2020', 'trimestre': '4º Trimestre', 'metodo': 'CartaoCredito', 'quantidade': 2672666.45, 'valor': 332987.17}, {'ano': '2020', 'trimestre': '4º Trimestre', 'metodo': 'CartaoDebito', 'quantidade': 3483509.4, 'valor': 258471.49}, {'ano': '2020', 'trimestre': '4º Trimestre', 'metodo': 'CartaoPrePago', 'quantidade': 1056946.56, 'valor': 19923.51}, {'ano': '2020', 'trimestre': '4º Trimestre', 'metodo': 'TransIntrabancaria', 'quantidade': 348828.24, 'valor': 4095052.12}, {'ano': '2020', 'trimestre': '4º Trimestre', 'metodo': 'Convenios', 'quantidade': 750242.75, 'valor': 719279.59}, {'ano': '2020', 'trimestre': '4º Trimestre', 'metodo': 'DebitoDireto', 'quantidade': 1700531.57, 'valor': 456624.59}, {'ano': '2020', 'trimestre': '4º Trimestre', 'metodo': 'Saques', 'quantidade': 1084574.42, 'valor': 765824.47}, {'ano': '2020', 'trimestre': '3º Trimestre', 'metodo': 'Pix', 'quantidade': 0.0, 'valor': 0.0}, {'ano': '2020', 'trimestre': '3º Trimestre', 'metodo': 'TED', 'quantidade': 541157.7, 'valor': 7503982.24}, {'ano': '2020', 'trimestre': '3º Trimestre', 'metodo': 'TEC', 'quantidade': 2024.38, 'valor': 4159.6}, {'ano': '2020', 'trimestre': '3º Trimestre', 'metodo': 'Cheque', 'quantidade': 86966.27, 'valor': 259334.88}, {'ano': '2020', 'trimestre': '3º Trimestre', 'metodo': 'Boleto', 'quantidade': 1389215.55, 'valor': 1959819.72}, {'ano': '2020', 'trimestre': '3º Trimestre', 'metodo': 'DOC', 'quantidade': 74377.91, 'valor': 52156.84}, {'ano': '2020', 'trimestre': '3º Trimestre', 'metodo': 'CartaoCredito', 'quantidade': 2280096.07, 'valor': 279176.98}, {'ano': '2020', 'trimestre': '3º Trimestre', 'metodo': 'CartaoDebito', 'quantidade': 2957015.55, 'valor': 228771.89}, {'ano': '2020', 'trimestre': '3º Trimestre', 'metodo': 'CartaoPrePago', 'quantidade': 795301.85, 'valor': 14809.51}, {'ano': '2020', 'trimestre': '3º Trimestre', 'metodo': 'TransIntrabancaria', 'quantidade': 338018.29, 'valor': 3864293.29}, {'ano': '2020', 'trimestre': '3º Trimestre', 'metodo': 'Convenios', 'quantidade': 776086.02, 'valor': 620034.56}, {'ano': '2020', 'trimestre': '3º Trimestre', 'metodo': 'DebitoDireto', 'quantidade': 1623252.19, 'valor': 415448.62}, {'ano': '2020', 'trimestre': '3º Trimestre', 'metodo': 'Saques', 'quantidade': 1009737.66, 'valor': 723099.8}, {'ano': '2020', 'trimestre': '2º Trimestre', 'metodo': 'Pix', 'quantidade': 0.0, 'valor': 0.0}, {'ano': '2020', 'trimestre': '2º Trimestre', 'metodo': 'TED', 'quantidade': 381386.51, 'valor': 6267004.16}, {'ano': '2020', 'trimestre': '2º Trimestre', 'metodo': 'TEC', 'quantidade': 2267.31, 'valor': 4647.32}, {'ano': '2020', 'trimestre': '2º Trimestre', 'metodo': 'Cheque', 'quantidade': 85355.07, 'valor': 237873.12}, {'ano': '2020', 'trimestre': '2º Trimestre', 'metodo': 'Boleto', 'quantidade': 1256812.05, 'valor': 1366623.21}, {'ano': '2020', 'trimestre': '2º Trimestre', 'metodo': 'DOC', 'quantidade': 73763.72, 'valor': 50881.15}, {'ano': '2020', 'trimestre': '2º Trimestre', 'metodo': 'CartaoCredito', 'quantidade': 1907929.12, 'valor': 224389.54}, {'ano': '2020', 'trimestre': '2º Trimestre', 'metodo': 'CartaoDebito', 'quantidade': 2259584.47, 'valor': 152246.79}, {'ano': '2020', 'trimestre': '2º Trimestre', 'metodo': 'CartaoPrePago', 'quantidade': 533545.65, 'valor': 8969.46}, {'ano': '2020', 'trimestre': '2º Trimestre', 'metodo': 'TransIntrabancaria', 'quantidade': 303062.51, 'valor': 3619039.33}, {'ano': '2020', 'trimestre': '2º Trimestre', 'metodo': 'Convenios', 'quantidade': 752351.43, 'valor': 480987.36}, {'ano': '2020', 'trimestre': '2º Trimestre', 'metodo': 'DebitoDireto', 'quantidade': 1542581.41, 'valor': 440102.05}, {'ano': '2020', 'trimestre': '2º Trimestre', 'metodo': 'Saques', 'quantidade': 934644.94, 'valor': 663932.32}, {'ano': '2020', 'trimestre': '1º Trimestre', 'metodo': 'Pix', 'quantidade': 0.0, 'valor': 0.0}, {'ano': '2020', 'trimestre': '1º Trimestre', 'metodo': 'TED', 'quantidade': 329386.2, 'valor': 6652135.13}, {'ano': '2020', 'trimestre': '1º Trimestre', 'metodo': 'TEC', 'quantidade': 2416.48, 'valor': 4829.56}, {'ano': '2020', 'trimestre': '1º Trimestre', 'metodo': 'Cheque', 'quantidade': 115237.83, 'valor': 318844.92}, {'ano': '2020', 'trimestre': '1º Trimestre', 'metodo': 'Boleto', 'quantidade': 1184510.67, 'valor': 1526486.76}, {'ano': '2020', 'trimestre': '1º Trimestre', 'metodo': 'DOC', 'quantidade': 43503.55, 'valor': 30628.55}, {'ano': '2020', 'trimestre': '1º Trimestre', 'metodo': 'CartaoCredito', 'quantidade': 2492783.1, 'valor': 275659.09}, {'ano': '2020', 'trimestre': '1º Trimestre', 'metodo': 'CartaoDebito', 'quantidade': 2757914.17, 'valor': 171399.49}, {'ano': '2020', 'trimestre': '1º Trimestre', 'metodo': 'CartaoPrePago', 'quantidade': 577500.51, 'valor': 8700.25}, {'ano': '2020', 'trimestre': '1º Trimestre', 'metodo': 'TransIntrabancaria', 'quantidade': 293996.77, 'valor': 4138724.78}, {'ano': '2020', 'trimestre': '1º Trimestre', 'metodo': 'Convenios', 'quantidade': 860763.75, 'valor': 700965.21}, {'ano': '2020', 'trimestre': '1º Trimestre', 'metodo': 'DebitoDireto', 'quantidade': 1522644.97, 'valor': 481940.35}, {'ano': '2020', 'trimestre': '1º Trimestre', 'metodo': 'Saques', 'quantidade': 1034924.99, 'valor': 719800.78}]\n"
     ]
    }
   ],
   "source": [
    "#tranformar dados em dicionário para insertir no banco de dados\n",
    "data_dict = df.to_dict(\"records\")\n",
    "print(data_dict)"
   ]
  },
  {
   "cell_type": "code",
   "execution_count": 8,
   "metadata": {},
   "outputs": [
    {
     "data": {
      "text/plain": [
       "InsertManyResult([ObjectId('6757174d8b005471faa09df1'), ObjectId('6757174d8b005471faa09df2'), ObjectId('6757174d8b005471faa09df3'), ObjectId('6757174d8b005471faa09df4'), ObjectId('6757174d8b005471faa09df5'), ObjectId('6757174d8b005471faa09df6'), ObjectId('6757174d8b005471faa09df7'), ObjectId('6757174d8b005471faa09df8'), ObjectId('6757174d8b005471faa09df9'), ObjectId('6757174d8b005471faa09dfa'), ObjectId('6757174d8b005471faa09dfb'), ObjectId('6757174d8b005471faa09dfc'), ObjectId('6757174d8b005471faa09dfd'), ObjectId('6757174d8b005471faa09dfe'), ObjectId('6757174d8b005471faa09dff'), ObjectId('6757174d8b005471faa09e00'), ObjectId('6757174d8b005471faa09e01'), ObjectId('6757174d8b005471faa09e02'), ObjectId('6757174d8b005471faa09e03'), ObjectId('6757174d8b005471faa09e04'), ObjectId('6757174d8b005471faa09e05'), ObjectId('6757174d8b005471faa09e06'), ObjectId('6757174d8b005471faa09e07'), ObjectId('6757174d8b005471faa09e08'), ObjectId('6757174d8b005471faa09e09'), ObjectId('6757174d8b005471faa09e0a'), ObjectId('6757174d8b005471faa09e0b'), ObjectId('6757174d8b005471faa09e0c'), ObjectId('6757174d8b005471faa09e0d'), ObjectId('6757174d8b005471faa09e0e'), ObjectId('6757174d8b005471faa09e0f'), ObjectId('6757174d8b005471faa09e10'), ObjectId('6757174d8b005471faa09e11'), ObjectId('6757174d8b005471faa09e12'), ObjectId('6757174d8b005471faa09e13'), ObjectId('6757174d8b005471faa09e14'), ObjectId('6757174d8b005471faa09e15'), ObjectId('6757174d8b005471faa09e16'), ObjectId('6757174d8b005471faa09e17'), ObjectId('6757174d8b005471faa09e18'), ObjectId('6757174d8b005471faa09e19'), ObjectId('6757174d8b005471faa09e1a'), ObjectId('6757174d8b005471faa09e1b'), ObjectId('6757174d8b005471faa09e1c'), ObjectId('6757174d8b005471faa09e1d'), ObjectId('6757174d8b005471faa09e1e'), ObjectId('6757174d8b005471faa09e1f'), ObjectId('6757174d8b005471faa09e20'), ObjectId('6757174d8b005471faa09e21'), ObjectId('6757174d8b005471faa09e22'), ObjectId('6757174d8b005471faa09e23'), ObjectId('6757174d8b005471faa09e24'), ObjectId('6757174d8b005471faa09e25'), ObjectId('6757174d8b005471faa09e26'), ObjectId('6757174d8b005471faa09e27'), ObjectId('6757174d8b005471faa09e28'), ObjectId('6757174d8b005471faa09e29'), ObjectId('6757174d8b005471faa09e2a'), ObjectId('6757174d8b005471faa09e2b'), ObjectId('6757174d8b005471faa09e2c'), ObjectId('6757174d8b005471faa09e2d'), ObjectId('6757174d8b005471faa09e2e'), ObjectId('6757174d8b005471faa09e2f'), ObjectId('6757174d8b005471faa09e30'), ObjectId('6757174d8b005471faa09e31'), ObjectId('6757174d8b005471faa09e32'), ObjectId('6757174d8b005471faa09e33'), ObjectId('6757174d8b005471faa09e34'), ObjectId('6757174d8b005471faa09e35'), ObjectId('6757174d8b005471faa09e36'), ObjectId('6757174d8b005471faa09e37'), ObjectId('6757174d8b005471faa09e38'), ObjectId('6757174d8b005471faa09e39'), ObjectId('6757174d8b005471faa09e3a'), ObjectId('6757174d8b005471faa09e3b'), ObjectId('6757174d8b005471faa09e3c'), ObjectId('6757174d8b005471faa09e3d'), ObjectId('6757174d8b005471faa09e3e'), ObjectId('6757174d8b005471faa09e3f'), ObjectId('6757174d8b005471faa09e40'), ObjectId('6757174d8b005471faa09e41'), ObjectId('6757174d8b005471faa09e42'), ObjectId('6757174d8b005471faa09e43'), ObjectId('6757174d8b005471faa09e44'), ObjectId('6757174d8b005471faa09e45'), ObjectId('6757174d8b005471faa09e46'), ObjectId('6757174d8b005471faa09e47'), ObjectId('6757174d8b005471faa09e48'), ObjectId('6757174d8b005471faa09e49'), ObjectId('6757174d8b005471faa09e4a'), ObjectId('6757174d8b005471faa09e4b'), ObjectId('6757174d8b005471faa09e4c'), ObjectId('6757174d8b005471faa09e4d'), ObjectId('6757174d8b005471faa09e4e'), ObjectId('6757174d8b005471faa09e4f'), ObjectId('6757174d8b005471faa09e50'), ObjectId('6757174d8b005471faa09e51'), ObjectId('6757174d8b005471faa09e52'), ObjectId('6757174d8b005471faa09e53'), ObjectId('6757174d8b005471faa09e54'), ObjectId('6757174d8b005471faa09e55'), ObjectId('6757174d8b005471faa09e56'), ObjectId('6757174d8b005471faa09e57'), ObjectId('6757174d8b005471faa09e58'), ObjectId('6757174d8b005471faa09e59'), ObjectId('6757174d8b005471faa09e5a'), ObjectId('6757174d8b005471faa09e5b'), ObjectId('6757174d8b005471faa09e5c'), ObjectId('6757174d8b005471faa09e5d'), ObjectId('6757174d8b005471faa09e5e'), ObjectId('6757174d8b005471faa09e5f'), ObjectId('6757174d8b005471faa09e60'), ObjectId('6757174d8b005471faa09e61'), ObjectId('6757174d8b005471faa09e62'), ObjectId('6757174d8b005471faa09e63'), ObjectId('6757174d8b005471faa09e64'), ObjectId('6757174d8b005471faa09e65'), ObjectId('6757174d8b005471faa09e66'), ObjectId('6757174d8b005471faa09e67'), ObjectId('6757174d8b005471faa09e68'), ObjectId('6757174d8b005471faa09e69'), ObjectId('6757174d8b005471faa09e6a'), ObjectId('6757174d8b005471faa09e6b'), ObjectId('6757174d8b005471faa09e6c'), ObjectId('6757174d8b005471faa09e6d'), ObjectId('6757174d8b005471faa09e6e'), ObjectId('6757174d8b005471faa09e6f'), ObjectId('6757174d8b005471faa09e70'), ObjectId('6757174d8b005471faa09e71'), ObjectId('6757174d8b005471faa09e72'), ObjectId('6757174d8b005471faa09e73'), ObjectId('6757174d8b005471faa09e74'), ObjectId('6757174d8b005471faa09e75'), ObjectId('6757174d8b005471faa09e76'), ObjectId('6757174d8b005471faa09e77'), ObjectId('6757174d8b005471faa09e78'), ObjectId('6757174d8b005471faa09e79'), ObjectId('6757174d8b005471faa09e7a'), ObjectId('6757174d8b005471faa09e7b'), ObjectId('6757174d8b005471faa09e7c'), ObjectId('6757174d8b005471faa09e7d'), ObjectId('6757174d8b005471faa09e7e'), ObjectId('6757174d8b005471faa09e7f'), ObjectId('6757174d8b005471faa09e80'), ObjectId('6757174d8b005471faa09e81'), ObjectId('6757174d8b005471faa09e82'), ObjectId('6757174d8b005471faa09e83'), ObjectId('6757174d8b005471faa09e84'), ObjectId('6757174d8b005471faa09e85'), ObjectId('6757174d8b005471faa09e86'), ObjectId('6757174d8b005471faa09e87'), ObjectId('6757174d8b005471faa09e88'), ObjectId('6757174d8b005471faa09e89'), ObjectId('6757174d8b005471faa09e8a'), ObjectId('6757174d8b005471faa09e8b'), ObjectId('6757174d8b005471faa09e8c'), ObjectId('6757174d8b005471faa09e8d'), ObjectId('6757174d8b005471faa09e8e'), ObjectId('6757174d8b005471faa09e8f'), ObjectId('6757174d8b005471faa09e90'), ObjectId('6757174d8b005471faa09e91'), ObjectId('6757174d8b005471faa09e92'), ObjectId('6757174d8b005471faa09e93'), ObjectId('6757174d8b005471faa09e94'), ObjectId('6757174d8b005471faa09e95'), ObjectId('6757174d8b005471faa09e96'), ObjectId('6757174d8b005471faa09e97'), ObjectId('6757174d8b005471faa09e98'), ObjectId('6757174d8b005471faa09e99'), ObjectId('6757174d8b005471faa09e9a'), ObjectId('6757174d8b005471faa09e9b'), ObjectId('6757174d8b005471faa09e9c'), ObjectId('6757174d8b005471faa09e9d'), ObjectId('6757174d8b005471faa09e9e'), ObjectId('6757174d8b005471faa09e9f'), ObjectId('6757174d8b005471faa09ea0'), ObjectId('6757174d8b005471faa09ea1'), ObjectId('6757174d8b005471faa09ea2'), ObjectId('6757174d8b005471faa09ea3'), ObjectId('6757174d8b005471faa09ea4'), ObjectId('6757174d8b005471faa09ea5'), ObjectId('6757174d8b005471faa09ea6'), ObjectId('6757174d8b005471faa09ea7'), ObjectId('6757174d8b005471faa09ea8'), ObjectId('6757174d8b005471faa09ea9'), ObjectId('6757174d8b005471faa09eaa'), ObjectId('6757174d8b005471faa09eab'), ObjectId('6757174d8b005471faa09eac'), ObjectId('6757174d8b005471faa09ead'), ObjectId('6757174d8b005471faa09eae'), ObjectId('6757174d8b005471faa09eaf'), ObjectId('6757174d8b005471faa09eb0'), ObjectId('6757174d8b005471faa09eb1'), ObjectId('6757174d8b005471faa09eb2'), ObjectId('6757174d8b005471faa09eb3'), ObjectId('6757174d8b005471faa09eb4'), ObjectId('6757174d8b005471faa09eb5'), ObjectId('6757174d8b005471faa09eb6'), ObjectId('6757174d8b005471faa09eb7'), ObjectId('6757174d8b005471faa09eb8'), ObjectId('6757174d8b005471faa09eb9'), ObjectId('6757174d8b005471faa09eba'), ObjectId('6757174d8b005471faa09ebb'), ObjectId('6757174d8b005471faa09ebc'), ObjectId('6757174d8b005471faa09ebd'), ObjectId('6757174d8b005471faa09ebe'), ObjectId('6757174d8b005471faa09ebf'), ObjectId('6757174d8b005471faa09ec0'), ObjectId('6757174d8b005471faa09ec1'), ObjectId('6757174d8b005471faa09ec2'), ObjectId('6757174d8b005471faa09ec3'), ObjectId('6757174d8b005471faa09ec4'), ObjectId('6757174d8b005471faa09ec5'), ObjectId('6757174d8b005471faa09ec6'), ObjectId('6757174d8b005471faa09ec7'), ObjectId('6757174d8b005471faa09ec8'), ObjectId('6757174d8b005471faa09ec9'), ObjectId('6757174d8b005471faa09eca'), ObjectId('6757174d8b005471faa09ecb'), ObjectId('6757174d8b005471faa09ecc'), ObjectId('6757174d8b005471faa09ecd'), ObjectId('6757174d8b005471faa09ece'), ObjectId('6757174d8b005471faa09ecf'), ObjectId('6757174d8b005471faa09ed0'), ObjectId('6757174d8b005471faa09ed1'), ObjectId('6757174d8b005471faa09ed2'), ObjectId('6757174d8b005471faa09ed3'), ObjectId('6757174d8b005471faa09ed4'), ObjectId('6757174d8b005471faa09ed5'), ObjectId('6757174d8b005471faa09ed6'), ObjectId('6757174d8b005471faa09ed7'), ObjectId('6757174d8b005471faa09ed8'), ObjectId('6757174d8b005471faa09ed9'), ObjectId('6757174d8b005471faa09eda')], acknowledged=True)"
      ]
     },
     "execution_count": 8,
     "metadata": {},
     "output_type": "execute_result"
    }
   ],
   "source": [
    "# Inserindo os dados no MongoDB\n",
    "collection.insert_many(data_dict)"
   ]
  }
 ],
 "metadata": {
  "kernelspec": {
   "display_name": "Python 3",
   "language": "python",
   "name": "python3"
  },
  "language_info": {
   "codemirror_mode": {
    "name": "ipython",
    "version": 3
   },
   "file_extension": ".py",
   "mimetype": "text/x-python",
   "name": "python",
   "nbconvert_exporter": "python",
   "pygments_lexer": "ipython3",
   "version": "3.12.7"
  }
 },
 "nbformat": 4,
 "nbformat_minor": 2
}
