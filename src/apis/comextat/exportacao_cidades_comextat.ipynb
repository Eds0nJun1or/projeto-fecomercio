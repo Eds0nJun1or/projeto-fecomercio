{
 "cells": [
  {
   "cell_type": "markdown",
   "metadata": {},
   "source": [
    "### exportando dados para o formato csv"
   ]
  },
  {
   "cell_type": "code",
   "execution_count": 1,
   "metadata": {},
   "outputs": [
    {
     "name": "stdout",
     "output_type": "stream",
     "text": [
      "Dados extraídos com sucesso!\n",
      "Dados exportados para o arquivo: exportacao_cidades_comextat.csv\n"
     ]
    }
   ],
   "source": [
    "import pandas as pd  # Manipulação e análise de dados\n",
    "import requests  # Para realizar requisições HTTP\n",
    "import urllib3  # Desabilitar verificação de certificado SSL\n",
    "\n",
    "# Desabilitar a verificação de certificado SSL\n",
    "urllib3.disable_warnings(urllib3.exceptions.InsecureRequestWarning)\n",
    "\n",
    "# Configuração da API\n",
    "url = \"https://api-comexstat.mdic.gov.br/cities\"\n",
    "headers = {\n",
    "    \"Content-Type\": \"application/json\"\n",
    "}\n",
    "\n",
    "# Filtros da API\n",
    "filtros = {\n",
    "    \"flow\": \"export\",\n",
    "    \"monthDetail\": True,\n",
    "    \"period\": {\"from\": \"2020-01\", \"to\": \"2024-12\"},\n",
    "    \"filters\": [{\"filter\": \"country\", \"values\": [105]}],\n",
    "    \"details\": [\"state\", \"city\"],\n",
    "    \"metrics\": [\"metricFOB\", \"metricKG\"]\n",
    "}\n",
    "\n",
    "# Fazendo a requisição POST à API\n",
    "try:\n",
    "    response = requests.post(url, json=filtros, headers=headers, verify=False)\n",
    "    if response.status_code == 200:\n",
    "        dados = response.json()  # Converte a resposta para JSON\n",
    "        \n",
    "        # Extrair a lista de dados\n",
    "        data_list = dados.get('data', {}).get('list', [])\n",
    "        if data_list:\n",
    "            # Transformar em DataFrame\n",
    "            dados_pd = pd.DataFrame(data_list)\n",
    "            print(\"Dados extraídos com sucesso!\")\n",
    "\n",
    "            # Exportar para CSV\n",
    "            arquivo_csv = \"exportacao_cidades_comextat.csv\"\n",
    "            dados_pd.to_csv(arquivo_csv, index=False, encoding=\"utf-8\")\n",
    "            print(f\"Dados exportados para o arquivo: {arquivo_csv}\")\n",
    "        else:\n",
    "            print(\"Nenhum dado encontrado na API.\")\n",
    "    else:\n",
    "        print(f\"Erro na requisição: {response.status_code} - {response.text}\")\n",
    "except Exception as e:\n",
    "    print(f\"Erro ao processar os dados: {e}\")\n"
   ]
  }
 ],
 "metadata": {
  "kernelspec": {
   "display_name": "Python 3",
   "language": "python",
   "name": "python3"
  },
  "language_info": {
   "codemirror_mode": {
    "name": "ipython",
    "version": 3
   },
   "file_extension": ".py",
   "mimetype": "text/x-python",
   "name": "python",
   "nbconvert_exporter": "python",
   "pygments_lexer": "ipython3",
   "version": "3.12.7"
  }
 },
 "nbformat": 4,
 "nbformat_minor": 2
}
