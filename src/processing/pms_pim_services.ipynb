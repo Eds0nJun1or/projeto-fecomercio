{
 "cells": [
  {
   "cell_type": "markdown",
   "metadata": {},
   "source": [
    "### Pesquisa Serviços"
   ]
  },
  {
   "cell_type": "code",
   "execution_count": 2,
   "metadata": {},
   "outputs": [
    {
     "name": "stdout",
     "output_type": "stream",
     "text": [
      "Dados salvos em 'pesquisa_servicos.csv'\n"
     ]
    },
    {
     "name": "stderr",
     "output_type": "stream",
     "text": [
      "C:\\Users\\biboy\\AppData\\Local\\Temp\\ipykernel_110000\\264442125.py:44: FutureWarning: Series.fillna with 'method' is deprecated and will raise in a future version. Use obj.ffill() or obj.bfill() instead.\n",
      "  df['Categoria'] = df['Categoria'].fillna(method='ffill')  # Preenche categorias nulas\n"
     ]
    }
   ],
   "source": [
    "import requests\n",
    "import pandas as pd\n",
    "\n",
    "# URL para a Pesquisa Mensal de Serviços\n",
    "url = \"https://servicodados.ibge.gov.br/api/v3/agregados/8163/periodos/202010-202409/variaveis/7167?localidades=N1[all]&classificacao=11046[all]|1274[56704,56705,56706,56707,56708,56709,56710,56711,56712,56713,56714,56715,56716,56717,56718,56719,56720,56721,56722]\"\n",
    "\n",
    "# Função para processar o JSON e transformar em DataFrame\n",
    "def process_pesquisa_servicos_json(data):\n",
    "    current_categoria = None\n",
    "    rows = []\n",
    "\n",
    "    for resultado in data[0]['resultados']:\n",
    "        classificacoes = resultado['classificacoes']\n",
    "        for classificacao in classificacoes:\n",
    "            for codigo, descricao in classificacao['categoria'].items():\n",
    "                if '.' in descricao:\n",
    "                    partes = descricao.split('.', 1)\n",
    "                    prefix = partes[0]\n",
    "                    nome = partes[1]\n",
    "                    if len(prefix) == 1:  # Categoria de maior nível\n",
    "                        current_categoria = nome\n",
    "\n",
    "                # Processar a série correspondente\n",
    "                for serie in resultado['series']:\n",
    "                    localidade = serie['localidade']['nome']\n",
    "                    for periodo, valor in serie['serie'].items():\n",
    "                        ano = periodo[:4]\n",
    "                        mes = periodo[4:]\n",
    "                        try:\n",
    "                            valor_float = float(valor)\n",
    "                        except ValueError:\n",
    "                            valor_float = None  # Tratar valores inválidos\n",
    "\n",
    "                        rows.append({\n",
    "                            \"Categoria\": current_categoria if current_categoria else '',\n",
    "                            \"Ano\": ano,\n",
    "                            \"Mês\": mes,\n",
    "                            \"Localidade\": localidade,\n",
    "                            \"Valor Índice\": valor_float\n",
    "                        })\n",
    "\n",
    "    # Cria o DataFrame\n",
    "    df = pd.DataFrame(rows)\n",
    "    df['Categoria'] = df['Categoria'].fillna(method='ffill')  # Preenche categorias nulas\n",
    "    return df\n",
    "\n",
    "# Realizar a requisição\n",
    "response = requests.get(url)\n",
    "\n",
    "# Verificar se a requisição foi bem-sucedida\n",
    "if response.status_code == 200:\n",
    "    data = response.json()\n",
    "    # Extrair e organizar os dados\n",
    "    df = process_pesquisa_servicos_json(data)\n",
    "    # Salvar em um arquivo CSV\n",
    "    df.to_csv(\"pesquisa_servicos.csv\", index=False, encoding='utf-8')\n",
    "    print(\"Dados salvos em 'pesquisa_servicos.csv'\")\n",
    "else:\n",
    "    print(\"Erro na requisição:\", response.status_code, response.text)\n"
   ]
  },
  {
   "cell_type": "markdown",
   "metadata": {},
   "source": [
    "### Pesquisa Industrial Mensal"
   ]
  },
  {
   "cell_type": "code",
   "execution_count": 2,
   "metadata": {},
   "outputs": [
    {
     "name": "stdout",
     "output_type": "stream",
     "text": [
      "                Categoria   Ano Mês Localidade  Valor Índice\n",
      "0  Categoria Desconhecida  2019  01     Brasil      98.33759\n",
      "1  Categoria Desconhecida  2019  02     Brasil      90.74466\n",
      "2  Categoria Desconhecida  2019  03     Brasil      91.47444\n",
      "3  Categoria Desconhecida  2019  04     Brasil      93.34245\n",
      "4  Categoria Desconhecida  2019  05     Brasil     101.14052\n",
      "Salvando o arquivo CSV...\n",
      "Arquivo CSV salvo com sucesso!\n"
     ]
    }
   ],
   "source": [
    "import requests\n",
    "import pandas as pd\n",
    "\n",
    "# URL para a Pesquisa Industrial Mensal\n",
    "url = \"https://servicodados.ibge.gov.br/api/v3/agregados/8885/periodos/201901-202409/variaveis/12606?localidades=N1[all]&classificacao=542[all]\"\n",
    "\n",
    "def process_pesquisa_industrial_json(data):\n",
    "    current_categoria = None\n",
    "    rows = []\n",
    "\n",
    "    if 'resultados' not in data[0]:\n",
    "        print(\"Erro: 'resultados' não encontrado no JSON\")\n",
    "        return pd.DataFrame()\n",
    "\n",
    "    for resultado in data[0]['resultados']:\n",
    "        if 'classificacoes' not in resultado:\n",
    "            continue\n",
    "\n",
    "        classificacoes = resultado['classificacoes']\n",
    "        for classificacao in classificacoes:\n",
    "            if 'categoria' not in classificacao:\n",
    "                continue\n",
    "\n",
    "            for codigo, descricao in classificacao['categoria'].items():\n",
    "                if '.' in descricao:\n",
    "                    partes = descricao.split('.', 1)\n",
    "                    prefix = partes[0]\n",
    "                    nome = partes[1]\n",
    "                    if len(prefix) == 1:\n",
    "                        current_categoria = nome\n",
    "\n",
    "                if 'series' not in resultado:\n",
    "                    continue\n",
    "\n",
    "                for serie in resultado['series']:\n",
    "                    if 'localidade' not in serie or 'serie' not in serie:\n",
    "                        continue\n",
    "\n",
    "                    localidade = serie['localidade']['nome']\n",
    "                    for periodo, valor in serie['serie'].items():\n",
    "                        ano = periodo[:4]\n",
    "                        mes = periodo[4:]\n",
    "                        try:\n",
    "                            valor_float = float(valor)\n",
    "                        except ValueError:\n",
    "                            valor_float = None\n",
    "\n",
    "                        rows.append({\n",
    "                            \"Categoria\": current_categoria if current_categoria else 'Categoria Desconhecida',\n",
    "                            \"Ano\": ano,\n",
    "                            \"Mês\": mes,\n",
    "                            \"Localidade\": localidade,\n",
    "                            \"Valor Índice\": valor_float\n",
    "                        })\n",
    "\n",
    "    df = pd.DataFrame(rows)\n",
    "    df['Categoria'] = df['Categoria'].ffill()\n",
    "    return df\n",
    "\n",
    "response = requests.get(url)\n",
    "\n",
    "if response.status_code == 200:\n",
    "    data = response.json()\n",
    "    df = process_pesquisa_industrial_json(data)\n",
    "\n",
    "    if not df.empty:\n",
    "        print(df.head())\n",
    "        print(\"Salvando o arquivo CSV...\")\n",
    "        df.to_csv(\"pesquisa_industrial.csv\", index=False, encoding='utf-8')\n",
    "        print(\"Arquivo CSV salvo com sucesso!\")\n",
    "    else:\n",
    "        print(\"O DataFrame está vazio, nenhum arquivo será salvo.\")\n",
    "else:\n",
    "    print(\"Erro na requisição:\", response.status_code, response.text)\n"
   ]
  }
 ],
 "metadata": {
  "kernelspec": {
   "display_name": "Python 3",
   "language": "python",
   "name": "python3"
  },
  "language_info": {
   "codemirror_mode": {
    "name": "ipython",
    "version": 3
   },
   "file_extension": ".py",
   "mimetype": "text/x-python",
   "name": "python",
   "nbconvert_exporter": "python",
   "pygments_lexer": "ipython3",
   "version": "3.12.7"
  }
 },
 "nbformat": 4,
 "nbformat_minor": 2
}
